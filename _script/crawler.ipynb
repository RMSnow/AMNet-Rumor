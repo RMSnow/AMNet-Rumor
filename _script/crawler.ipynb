{
 "cells": [
  {
   "cell_type": "code",
   "execution_count": 4,
   "metadata": {
    "collapsed": true
   },
   "outputs": [],
   "source": [
    "# {\"pageurl\":\"http://service.account.weibo.com/show?rid\\u003dK1CaO6Apd6a8e\",\n",
    "# \"judgecontent\":\"经查，该微博称“郑晓银的大学录取通知书落在车上”为不实且已被 辟谣，详情：，被举报人言论构成“发布不实信息”，虽无即时危险，但应予澄清，现根据《微博社区管理规定》 （）第19条，予以标识处理。\",\n",
    "# \"userId\":\"5488488693\",\n",
    "# \"weibourl\":\"http://weibo.com/5488488693/E4VCMnwta\",\n",
    "# \"containtMurl\":true,\n",
    "# \"weiboId\":\"4011748245606360\",\n",
    "# \"userurl\":\"http://weibo.com/u/5488488693\",\n",
    "# \"weiboContent\":\"博白真实事件:请问有谁认识家住博白县大坝镇郭家坝名叫郑晓银的同学，请告诉她，她的大学录取通知书落在今天乘坐的车上，师傅电话为17771269207。。。大家相互转发一下\\u0026nbsp;\\u0026nbsp;\\u0026nbsp;，谢谢！ 2深圳\",\n",
    "# \"time\":\"2016-08-23 21:26\",\n",
    "# \"forward\":\"0\",\n",
    "# \"comment\":\"5\",\n",
    "# \"faces\":{},\n",
    "# \"userCertify\":0,\n",
    "# \"sourcePlatform\":\"小米手机4\",\n",
    "# \"praise\":\"2\",\n",
    "# \"weibolocation\":\"深圳\",\n",
    "# \"piclists\":[\"http://ww1.sinaimg.cn/thumb180/6aaeb4b8gy1fcs8lnv85oj20ca10etdc.jpg\",\"http://ww1.sinaimg.cn/thumb180/6aaeb4b8gy1fcs8lntxvsj20ca0zwade.jpg\",\"http://ww1.sinaimg.cn/thumb180/6aaeb4b8gy1fcs8lnvb4vj20ca12kwk9.jpg\",\"http://ww1.sinaimg.cn/thumb180/6aaeb4b8gy1fcs8loa9nij20c90xo42x.jpg\",\"http://ww1.sinaimg.cn/thumb180/6aaeb4b8gy1fcs8loek8gj20c911s7b2.jpg\",\"http://ww1.sinaimg.cn/thumb180/6aaeb4b8gy1fcs8loikksj20c90zm0yo.jpg\",\"http://ww1.sinaimg.cn/thumb180/6aaeb4b8gy1fcs8m0696mj20ca1g97ao.jpg\",\"http://ww1.sinaimg.cn/thumb180/6aaeb4b8gy1fcs8m0sw1oj20ca1nn7bj.jpg\",\"http://ww1.sinaimg.cn/thumb180/6aaeb4b8gy1fcs8m1o2p8j20ca1b97a4.jpg\"],\n",
    "# \"hasvideo\":false,\n",
    "# \"mentions\":[],\n",
    "# \"hasUrls\":false,\n",
    "# \"username\":\"disil温暖的女子\",\n",
    "# \"userGender\":\"female\",\n",
    "# \"followCount\":\"159\",\n",
    "# \"fanCount\":\"30\",\n",
    "# \"userWeibocount\":\"215\",\n",
    "# \"userLocation\":\"广西玉林\",\n",
    "# \"userDescription\":\"来自太阳的乐观与活力，是温暖明亮的能量。\"}"
   ]
  },
  {
   "cell_type": "code",
   "execution_count": 7,
   "metadata": {},
   "outputs": [
    {
     "name": "stdout",
     "output_type": "stream",
     "text": [
      "153782\n",
      "12591\n"
     ]
    }
   ],
   "source": [
    "from urllib.request import urlretrieve\n",
    "import json\n",
    "\n",
    "with open('url_json.txt', 'r') as src:\n",
    "    lines = src.readlines()\n",
    "    pic_lists = []\n",
    "    for json_obj in lines:\n",
    "        url_dict = json.loads(json_obj)\n",
    "        if 'piclists' in url_dict.keys():\n",
    "            curr_pic = url_dict['piclists']\n",
    "            pic_lists += curr_pic\n",
    "\n",
    "pic_set = set(pic_lists)\n",
    "\n",
    "# 数量统计\n",
    "print(len(pic_lists))\n",
    "print(len(pic_set))"
   ]
  },
  {
   "cell_type": "code",
   "execution_count": 9,
   "metadata": {},
   "outputs": [],
   "source": [
    "# test\n",
    "pic_new_list = list(pic_set)"
   ]
  },
  {
   "cell_type": "code",
   "execution_count": 15,
   "metadata": {},
   "outputs": [
    {
     "name": "stdout",
     "output_type": "stream",
     "text": [
      "http://weibo.com/1278827482/E7S1YttqK\n",
      "{'http://ww1.sinaimg.cn/thumb180/6aaeb4b8gy1fcs8m0696mj20ca1g97ao.jpg', 'http://ww1.sinaimg.cn/thumb180/6aaeb4b8gy1fcs8lntxvsj20ca0zwade.jpg', 'http://ww1.sinaimg.cn/thumb180/6aaeb4b8gy1fcs8m1o2p8j20ca1b97a4.jpg', 'http://ww1.sinaimg.cn/thumb180/6aaeb4b8gy1fcs8loa9nij20c90xo42x.jpg', 'http://ww1.sinaimg.cn/thumb180/6aaeb4b8gy1fcs8lnvb4vj20ca12kwk9.jpg', 'http://ww1.sinaimg.cn/thumb180/6aaeb4b8gy1fcs8lnv85oj20ca10etdc.jpg', 'http://ww1.sinaimg.cn/thumb180/6aaeb4b8gy1fcs8m0sw1oj20ca1nn7bj.jpg', 'http://ww1.sinaimg.cn/thumb180/6aaeb4b8gy1fcs8loikksj20c90zm0yo.jpg', 'http://ww1.sinaimg.cn/thumb180/6aaeb4b8gy1fcs8loek8gj20c911s7b2.jpg'}\n",
      "\n",
      "http://weibo.com/5920839851/E7OCqxULY\n",
      "{'http://ww1.sinaimg.cn/thumb180/6aaeb4b8gy1fcs8m0696mj20ca1g97ao.jpg', 'http://ww1.sinaimg.cn/thumb180/6aaeb4b8gy1fcs8lntxvsj20ca0zwade.jpg', 'http://ww1.sinaimg.cn/thumb180/6aaeb4b8gy1fcs8m1o2p8j20ca1b97a4.jpg', 'http://ww1.sinaimg.cn/thumb180/6aaeb4b8gy1fcs8loa9nij20c90xo42x.jpg', 'http://ww1.sinaimg.cn/thumb180/6aaeb4b8gy1fcs8lnvb4vj20ca12kwk9.jpg', 'http://ww1.sinaimg.cn/thumb180/6aaeb4b8gy1fcs8lnv85oj20ca10etdc.jpg', 'http://ww1.sinaimg.cn/thumb180/6aaeb4b8gy1fcs8m0sw1oj20ca1nn7bj.jpg', 'http://ww1.sinaimg.cn/thumb180/6aaeb4b8gy1fcs8loikksj20c90zm0yo.jpg', 'http://ww1.sinaimg.cn/thumb180/6aaeb4b8gy1fcs8loek8gj20c911s7b2.jpg'}\n",
      "\n",
      "http://weibo.com/3865141548/E85ZbiHQN\n",
      "{'http://ww1.sinaimg.cn/thumb180/6aaeb4b8gy1fcs8m0696mj20ca1g97ao.jpg', 'http://ww1.sinaimg.cn/thumb180/6aaeb4b8gy1fcs8lntxvsj20ca0zwade.jpg', 'http://ww1.sinaimg.cn/thumb180/6aaeb4b8gy1fcs8m1o2p8j20ca1b97a4.jpg', 'http://ww1.sinaimg.cn/thumb180/6aaeb4b8gy1fcs8loa9nij20c90xo42x.jpg', 'http://ww1.sinaimg.cn/thumb180/6aaeb4b8gy1fcs8lnvb4vj20ca12kwk9.jpg', 'http://ww1.sinaimg.cn/thumb180/6aaeb4b8gy1fcs8lnv85oj20ca10etdc.jpg', 'http://ww1.sinaimg.cn/thumb180/6aaeb4b8gy1fcs8m0sw1oj20ca1nn7bj.jpg', 'http://ww1.sinaimg.cn/thumb180/6aaeb4b8gy1fcs8loikksj20c90zm0yo.jpg', 'http://ww1.sinaimg.cn/thumb180/6aaeb4b8gy1fcs8loek8gj20c911s7b2.jpg'}\n",
      "\n",
      "http://weibo.com/2704610951/E84zDn5U7\n",
      "{'http://ww1.sinaimg.cn/thumb180/6aaeb4b8gy1fcs8m0696mj20ca1g97ao.jpg', 'http://ww1.sinaimg.cn/thumb180/6aaeb4b8gy1fcs8lntxvsj20ca0zwade.jpg', 'http://ww1.sinaimg.cn/thumb180/6aaeb4b8gy1fcs8m1o2p8j20ca1b97a4.jpg', 'http://ww1.sinaimg.cn/thumb180/6aaeb4b8gy1fcs8loa9nij20c90xo42x.jpg', 'http://ww1.sinaimg.cn/thumb180/6aaeb4b8gy1fcs8lnvb4vj20ca12kwk9.jpg', 'http://ww1.sinaimg.cn/thumb180/6aaeb4b8gy1fcs8lnv85oj20ca10etdc.jpg', 'http://ww1.sinaimg.cn/thumb180/6aaeb4b8gy1fcs8m0sw1oj20ca1nn7bj.jpg', 'http://ww1.sinaimg.cn/thumb180/6aaeb4b8gy1fcs8loikksj20c90zm0yo.jpg', 'http://ww1.sinaimg.cn/thumb180/6aaeb4b8gy1fcs8loek8gj20c911s7b2.jpg'}\n",
      "\n",
      "http://weibo.com/5719815730/E8AcWgblZ\n",
      "{'http://ww1.sinaimg.cn/thumb180/6aaeb4b8gy1fcs8m0696mj20ca1g97ao.jpg', 'http://ww1.sinaimg.cn/thumb180/6aaeb4b8gy1fcs8lntxvsj20ca0zwade.jpg', 'http://ww1.sinaimg.cn/thumb180/6aaeb4b8gy1fcs8m1o2p8j20ca1b97a4.jpg', 'http://ww1.sinaimg.cn/thumb180/6aaeb4b8gy1fcs8loa9nij20c90xo42x.jpg', 'http://ww1.sinaimg.cn/thumb180/6aaeb4b8gy1fcs8lnvb4vj20ca12kwk9.jpg', 'http://ww1.sinaimg.cn/thumb180/6aaeb4b8gy1fcs8lnv85oj20ca10etdc.jpg', 'http://ww1.sinaimg.cn/thumb180/6aaeb4b8gy1fcs8m0sw1oj20ca1nn7bj.jpg', 'http://ww1.sinaimg.cn/thumb180/6aaeb4b8gy1fcs8loikksj20c90zm0yo.jpg', 'http://ww1.sinaimg.cn/thumb180/6aaeb4b8gy1fcs8loek8gj20c911s7b2.jpg'}\n",
      "\n"
     ]
    }
   ],
   "source": [
    "from urllib.request import urlretrieve\n",
    "import json\n",
    "\n",
    "i = 0\n",
    "with open('url_json.txt', 'r') as src:\n",
    "    lines = src.readlines()\n",
    "    pic_lists = []\n",
    "    for json_obj in lines:\n",
    "        url_dict = json.loads(json_obj)\n",
    "        if 'piclists' in url_dict.keys():\n",
    "            curr_pic = url_dict['piclists']\n",
    "            \n",
    "            curr_set = set(curr_pic)\n",
    "            old_set = set(pic_lists)\n",
    "            union_set = curr_set & old_set\n",
    "            \n",
    "            if union_set:\n",
    "                print(url_dict['weibourl'])\n",
    "                print(union_set)\n",
    "                print()\n",
    "                i += 1\n",
    "            \n",
    "            if i == 5:\n",
    "                break\n",
    "            \n",
    "            pic_lists += curr_pic"
   ]
  },
  {
   "cell_type": "code",
   "execution_count": 5,
   "metadata": {},
   "outputs": [
    {
     "name": "stdout",
     "output_type": "stream",
     "text": [
      "{1}\n"
     ]
    }
   ],
   "source": [
    "a = [1, 3, 5, 7, 9, 5]\n",
    "b = [4, 6, 8, 10 , 6, 8, 1]\n",
    "\n",
    "set_a = set(a)\n",
    "set_b = set(b)\n",
    "\n",
    "print(set_a & set_b)"
   ]
  },
  {
   "cell_type": "code",
   "execution_count": null,
   "metadata": {
    "collapsed": true
   },
   "outputs": [],
   "source": []
  }
 ],
 "metadata": {
  "kernelspec": {
   "display_name": "Python 3",
   "language": "python",
   "name": "python3"
  },
  "language_info": {
   "codemirror_mode": {
    "name": "ipython",
    "version": 3
   },
   "file_extension": ".py",
   "mimetype": "text/x-python",
   "name": "python",
   "nbconvert_exporter": "python",
   "pygments_lexer": "ipython3",
   "version": "3.5.3"
  }
 },
 "nbformat": 4,
 "nbformat_minor": 2
}
