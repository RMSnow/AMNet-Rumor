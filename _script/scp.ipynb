{
 "cells": [
  {
   "cell_type": "code",
   "execution_count": 1,
   "metadata": {},
   "outputs": [
    {
     "name": "stdout",
     "output_type": "stream",
     "text": [
      "['expt5', 'expt6']\n"
     ]
    }
   ],
   "source": [
    "# 参数\n",
    "top = 20\n",
    "\n",
    "# /media/Data/qipeng/modified_complete_images/AMNet-Rumor/AMNet-Predict/expt1.2/att_maps/rumor\n",
    "server_path = '/media/Data/qipeng/modified_complete_images/AMNet-Rumor/AMNet-Predict/'\n",
    "client_path = '/Users/snow/snow_学习/4-研究生/实验室/AMNet/AMNet/att_maps/'\n",
    "\n",
    "expts = []\n",
    "for i in range(5, 7):\n",
    "    expts.append('expt' + str(i))\n",
    "#     expts.append('expt' + str(i) + '.2')\n",
    "    \n",
    "print(expts)"
   ]
  },
  {
   "cell_type": "code",
   "execution_count": 2,
   "metadata": {
    "collapsed": true,
    "scrolled": true
   },
   "outputs": [],
   "source": [
    "import pandas as pd\n",
    "import os\n",
    "import time\n",
    "    \n",
    "for expt in expts:\n",
    "    eval_file = '../predict/eval-' + expt + '.csv'\n",
    "    df = pd.read_csv(eval_file)\n",
    "    \n",
    "    # 得到四类图片的文件列表\n",
    "    \n",
    "    rumor_bottom_list = df[df['Label'].isin([1])].sort_values(by='PredValue')[:top]['ImgName'].tolist()\n",
    "    rumor_top_list = df[df['Label'].isin([1])].sort_values(by='PredValue', ascending=False)[:top]['ImgName'].tolist()\n",
    "    nonrumor_bottom_list = df[df['Label'].isin([0])].sort_values(by='PredValue')[:top]['ImgName'].tolist()\n",
    "    nonrumor_top_list = df[df['Label'].isin([0])].sort_values(by='PredValue', ascending=False)[:top]['ImgName'].tolist()\n",
    "    \n",
    "    expt_file_dict = {}\n",
    "    expt_file_dict['rumor-bottom'] = rumor_bottom_list\n",
    "    expt_file_dict['rumor-top'] = rumor_top_list\n",
    "    expt_file_dict['nonrumor-bottom'] = nonrumor_bottom_list\n",
    "    expt_file_dict['nonrumor-top'] = nonrumor_top_list\n",
    "    \n",
    "    # 开始进行文件传输\n",
    "    \n",
    "    rumor_path = server_path + expt + '/att_maps/rumor/'\n",
    "    nonrumor_path = server_path + expt + '/att_maps/nonrumor/'\n",
    "    des_path = client_path + expt + '/'\n",
    "    \n",
    "    for i in range(top):\n",
    "        for preffix, name_list in expt_file_dict.items():\n",
    "            img_name = name_list[i].split('.jpg')[0] + '_att.jpg'\n",
    "            \n",
    "            if 'nonrumor' not in preffix:\n",
    "                src_file = rumor_path + img_name\n",
    "            else:\n",
    "                src_file = nonrumor_path + img_name\n",
    "                \n",
    "            des_file = des_path + preffix + str(i + 1) + '-' + img_name\n",
    "            \n",
    "            # 执行expect脚本文件，把src_file传给des_file\n",
    "            # 命令：expect <.sh> <src_file> <des_file> \n",
    "            os.system('expect scp.sh ' + src_file + ' ' + des_file)"
   ]
  },
  {
   "cell_type": "code",
   "execution_count": null,
   "metadata": {
    "collapsed": true
   },
   "outputs": [],
   "source": []
  }
 ],
 "metadata": {
  "kernelspec": {
   "display_name": "Python 3",
   "language": "python",
   "name": "python3"
  },
  "language_info": {
   "codemirror_mode": {
    "name": "ipython",
    "version": 3
   },
   "file_extension": ".py",
   "mimetype": "text/x-python",
   "name": "python",
   "nbconvert_exporter": "python",
   "pygments_lexer": "ipython3",
   "version": "3.5.3"
  }
 },
 "nbformat": 4,
 "nbformat_minor": 2
}
