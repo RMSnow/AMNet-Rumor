{
 "cells": [
  {
   "cell_type": "markdown",
   "metadata": {},
   "source": [
    "# Eval: 评估性能"
   ]
  },
  {
   "cell_type": "markdown",
   "metadata": {},
   "source": [
    "## mem*.txt 文件处理  "
   ]
  },
  {
   "cell_type": "code",
   "execution_count": 5,
   "metadata": {},
   "outputs": [
    {
     "data": {
      "text/plain": [
       "'/Users/snow/snow_学习/4-研究生/实验室/AMNet/AMNet/predict\\n'"
      ]
     },
     "execution_count": 5,
     "metadata": {},
     "output_type": "execute_result"
    }
   ],
   "source": [
    "# 文件格式  \n",
    "# /media/Data/qipeng/modified_complete_images/AMNet-Rumor/AMNet-Predict/images/nonrumor/000e9fbgw1euz5ia6soqj20c811tjwf.jpg -0.0433418 0.0\n",
    "# <[Path]+[ImgName]> <PredValue> <0.0>\n",
    "\n",
    "# 处理结果: mem-expt*.txt\n",
    "# <ImgName> <PredValue>\n",
    "\n",
    "# 处理结果: mem-expt*-[threshold].txt\n",
    "# <ImgName> <label>\n",
    "\n",
    "# 处理结果: eval-expt*.txt\n",
    "# <ImgName> <PredValue> <TrueLabel>\n",
    "\n",
    "import os\n",
    "out = os.popen('pwd')\n",
    "out.read()"
   ]
  },
  {
   "cell_type": "code",
   "execution_count": 13,
   "metadata": {
    "collapsed": true
   },
   "outputs": [],
   "source": [
    "# 参数\n",
    "expt_to_handle = 'expt6'\n",
    "# 阈值\n",
    "threshold = 0.5"
   ]
  },
  {
   "cell_type": "code",
   "execution_count": 14,
   "metadata": {},
   "outputs": [
    {
     "name": "stdout",
     "output_type": "stream",
     "text": [
      "['memorabilities-expt6-nonrumor.txt', 'memorabilities-expt6-rumor.txt']\n"
     ]
    }
   ],
   "source": [
    "import pandas as pd\n",
    "import os\n",
    "\n",
    "src_path = '../_expt/'\n",
    "des_path = './'\n",
    "\n",
    "path = '/media/Data/qipeng/modified_complete_images/AMNet-Rumor/AMNet-Predict/images/'\n",
    "\n",
    "########################### mem-expt-sorted.txt 与 mem-expt-threshold-sorted.txt ###########################\n",
    "mem_files = []\n",
    "for root, dirs, files in os.walk(src_path, topdown=False):\n",
    "    for file in files:\n",
    "        if 'memorabilities' not in file:\n",
    "            continue\n",
    "        if expt_to_handle not in file:\n",
    "            continue\n",
    "            \n",
    "        # 处理expt*.2\n",
    "        if '.2' not in expt_to_handle and '.2' in file:\n",
    "            continue\n",
    "            \n",
    "        mem_files.append(file)\n",
    "\n",
    "print(mem_files)\n",
    "\n",
    "with open(des_path + 'mem-' + expt_to_handle + '-sorted.txt', 'w') as out1:\n",
    "    with open(des_path + 'mem-' + expt_to_handle + '-' + str(threshold) +'-sorted.txt', 'w') as out2:\n",
    "        out1_lines = []\n",
    "        out2_lines = []\n",
    "        \n",
    "        for mem_file in mem_files:\n",
    "            with open(src_path + mem_file, 'r') as raw:\n",
    "                lines = raw.readlines()\n",
    "                img_dir = path + 'nonrumor/' if 'nonrumor' in mem_file else path + 'rumor/'\n",
    "                for line in lines:\n",
    "                    img_name, pred_value, _ = line.split()\n",
    "                    img_name = img_name.split(img_dir)[1]\n",
    "                    # out1.write(img_name + ' ' + pred_value + '\\n')\n",
    "                    out1_lines.append(img_name + ' ' + pred_value + '\\n')\n",
    "                    \n",
    "                    label = 1 if float(pred_value) > threshold else 0\n",
    "                    # out2.write(img_name + ' ' + str(label) + '\\n')\n",
    "                    out2_lines.append(img_name + ' ' + str(label) + '\\n')\n",
    "        \n",
    "        out1_lines.sort()\n",
    "        out2_lines.sort()\n",
    "        out1.writelines(out1_lines)\n",
    "        out2.writelines(out2_lines)\n",
    "\n",
    "########################### eval-expt*.txt ###########################\n",
    "\n",
    "eval_file = des_path + 'eval-' + expt_to_handle + '.csv'\n",
    "true_file = 'pred-real-sorted.txt'\n",
    "pred_file = des_path + 'mem-' + expt_to_handle + '-sorted.txt'\n",
    "\n",
    "true_df = pd.read_csv(true_file, header=None, delim_whitespace=True)\n",
    "pred_df = pd.read_csv(pred_file, header=None, delim_whitespace=True)\n",
    "pred_df[2] = true_df[1]\n",
    "\n",
    "pred_df.to_csv(eval_file, header=['ImgName', 'PredValue', 'Label'], index=None)"
   ]
  },
  {
   "cell_type": "markdown",
   "metadata": {},
   "source": [
    "## Accuracy"
   ]
  },
  {
   "cell_type": "code",
   "execution_count": 15,
   "metadata": {
    "collapsed": true
   },
   "outputs": [],
   "source": [
    "import pandas as pd\n",
    "import numpy as np\n",
    "import sklearn.metrics as metrics\n",
    "\n",
    "real_file = 'pred-real-sorted.txt'\n",
    "pred_file = 'mem-' + expt_to_handle + '-' + str(threshold) + '-sorted.txt'\n",
    "\n",
    "real_df = pd.read_csv(real_file, header=None, delim_whitespace=True)\n",
    "pred_df = pd.read_csv(pred_file, header=None, delim_whitespace=True)\n",
    "\n",
    "y_real = real_df[1].tolist()\n",
    "y_pred = pred_df[1].tolist()"
   ]
  },
  {
   "cell_type": "code",
   "execution_count": 16,
   "metadata": {},
   "outputs": [
    {
     "data": {
      "text/plain": [
       "0.76407407407407413"
      ]
     },
     "execution_count": 16,
     "metadata": {},
     "output_type": "execute_result"
    }
   ],
   "source": [
    "metrics.accuracy_score(y_real, y_pred)"
   ]
  },
  {
   "cell_type": "code",
   "execution_count": 17,
   "metadata": {},
   "outputs": [
    {
     "name": "stdout",
     "output_type": "stream",
     "text": [
      "             precision    recall  f1-score   support\n",
      "\n",
      "          0       0.77      0.75      0.76      2700\n",
      "          1       0.76      0.78      0.77      2700\n",
      "\n",
      "avg / total       0.76      0.76      0.76      5400\n",
      "\n"
     ]
    }
   ],
   "source": [
    "print(metrics.classification_report(y_real, y_pred))"
   ]
  },
  {
   "cell_type": "markdown",
   "metadata": {},
   "source": [
    "## AUC"
   ]
  },
  {
   "cell_type": "code",
   "execution_count": 18,
   "metadata": {
    "collapsed": true
   },
   "outputs": [],
   "source": [
    "import pandas as pd\n",
    "import numpy as np\n",
    "import sklearn.metrics as metrics\n",
    "\n",
    "real_file = 'pred-real-sorted.txt'\n",
    "pred_file = 'mem-' + expt_to_handle + '-sorted.txt'\n",
    "\n",
    "real_df = pd.read_csv(real_file, header=None, delim_whitespace=True)\n",
    "pred_df = pd.read_csv(pred_file, header=None, delim_whitespace=True)\n",
    "\n",
    "y_real = real_df[1].tolist()\n",
    "y_pred = pred_df[1].tolist()"
   ]
  },
  {
   "cell_type": "code",
   "execution_count": 19,
   "metadata": {},
   "outputs": [
    {
     "name": "stdout",
     "output_type": "stream",
     "text": [
      "0.845087517147\n"
     ]
    }
   ],
   "source": [
    "print(metrics.roc_auc_score(y_real, y_pred))"
   ]
  },
  {
   "cell_type": "code",
   "execution_count": null,
   "metadata": {
    "collapsed": true
   },
   "outputs": [],
   "source": []
  }
 ],
 "metadata": {
  "kernelspec": {
   "display_name": "Python 3",
   "language": "python",
   "name": "python3"
  },
  "language_info": {
   "codemirror_mode": {
    "name": "ipython",
    "version": 3
   },
   "file_extension": ".py",
   "mimetype": "text/x-python",
   "name": "python",
   "nbconvert_exporter": "python",
   "pygments_lexer": "ipython3",
   "version": "3.5.3"
  }
 },
 "nbformat": 4,
 "nbformat_minor": 2
}
